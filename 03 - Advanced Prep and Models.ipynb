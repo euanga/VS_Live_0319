{
 "cells": [
  {
   "cell_type": "markdown",
   "metadata": {},
   "source": [
    "# Advanced Prep and Models\n",
    "\n",
    "This notebook is simply a repeat of the 01 notebook but using the crefully crafted version of the data frm the 02 notebook to see if by doing a better job with the data we can make the models more accurate (not does not neccesarily mean better)."
   ]
  },
  {
   "cell_type": "code",
   "execution_count": 1,
   "metadata": {},
   "outputs": [],
   "source": [
    "import pandas as pd\n",
    "import warnings\n",
    "from collections import OrderedDict\n",
    "import numpy as np\n",
    "import pandas as pd\n",
    "\n",
    "# Visualisation\n",
    "import matplotlib.pyplot as plt\n",
    "import seaborn as sns\n",
    "\n",
    "#Sampling\n",
    "from sklearn.model_selection import train_test_split\n",
    "\n",
    "# Classifiier\n",
    "from sklearn.linear_model import LogisticRegression\n",
    "from sklearn.ensemble import RandomForestClassifier\n",
    "from sklearn.tree import DecisionTreeClassifier\n",
    "from sklearn.svm import SVC"
   ]
  },
  {
   "cell_type": "code",
   "execution_count": 2,
   "metadata": {},
   "outputs": [
    {
     "data": {
      "text/html": [
       "<div>\n",
       "<style scoped>\n",
       "    .dataframe tbody tr th:only-of-type {\n",
       "        vertical-align: middle;\n",
       "    }\n",
       "\n",
       "    .dataframe tbody tr th {\n",
       "        vertical-align: top;\n",
       "    }\n",
       "\n",
       "    .dataframe thead th {\n",
       "        text-align: right;\n",
       "    }\n",
       "</style>\n",
       "<table border=\"1\" class=\"dataframe\">\n",
       "  <thead>\n",
       "    <tr style=\"text-align: right;\">\n",
       "      <th></th>\n",
       "      <th>PassengerClass</th>\n",
       "      <th>Survived</th>\n",
       "      <th>Age</th>\n",
       "      <th>FarePrice</th>\n",
       "      <th>Title_Aristocracy</th>\n",
       "      <th>Title_Master</th>\n",
       "      <th>Title_Military</th>\n",
       "      <th>Title_Miss</th>\n",
       "      <th>Title_Mr</th>\n",
       "      <th>Title_Mrs</th>\n",
       "      <th>Title_Professional</th>\n",
       "      <th>Sex_female</th>\n",
       "      <th>Sex_male</th>\n",
       "    </tr>\n",
       "  </thead>\n",
       "  <tbody>\n",
       "    <tr>\n",
       "      <th>0</th>\n",
       "      <td>1</td>\n",
       "      <td>1</td>\n",
       "      <td>29.0000</td>\n",
       "      <td>211</td>\n",
       "      <td>0</td>\n",
       "      <td>0</td>\n",
       "      <td>0</td>\n",
       "      <td>1</td>\n",
       "      <td>0</td>\n",
       "      <td>0</td>\n",
       "      <td>0</td>\n",
       "      <td>1</td>\n",
       "      <td>0</td>\n",
       "    </tr>\n",
       "    <tr>\n",
       "      <th>1</th>\n",
       "      <td>1</td>\n",
       "      <td>1</td>\n",
       "      <td>0.9167</td>\n",
       "      <td>151</td>\n",
       "      <td>0</td>\n",
       "      <td>1</td>\n",
       "      <td>0</td>\n",
       "      <td>0</td>\n",
       "      <td>0</td>\n",
       "      <td>0</td>\n",
       "      <td>0</td>\n",
       "      <td>0</td>\n",
       "      <td>1</td>\n",
       "    </tr>\n",
       "    <tr>\n",
       "      <th>2</th>\n",
       "      <td>1</td>\n",
       "      <td>0</td>\n",
       "      <td>2.0000</td>\n",
       "      <td>151</td>\n",
       "      <td>0</td>\n",
       "      <td>0</td>\n",
       "      <td>0</td>\n",
       "      <td>1</td>\n",
       "      <td>0</td>\n",
       "      <td>0</td>\n",
       "      <td>0</td>\n",
       "      <td>1</td>\n",
       "      <td>0</td>\n",
       "    </tr>\n",
       "    <tr>\n",
       "      <th>3</th>\n",
       "      <td>1</td>\n",
       "      <td>0</td>\n",
       "      <td>30.0000</td>\n",
       "      <td>151</td>\n",
       "      <td>0</td>\n",
       "      <td>0</td>\n",
       "      <td>0</td>\n",
       "      <td>0</td>\n",
       "      <td>1</td>\n",
       "      <td>0</td>\n",
       "      <td>0</td>\n",
       "      <td>0</td>\n",
       "      <td>1</td>\n",
       "    </tr>\n",
       "    <tr>\n",
       "      <th>4</th>\n",
       "      <td>1</td>\n",
       "      <td>0</td>\n",
       "      <td>25.0000</td>\n",
       "      <td>151</td>\n",
       "      <td>0</td>\n",
       "      <td>0</td>\n",
       "      <td>0</td>\n",
       "      <td>0</td>\n",
       "      <td>0</td>\n",
       "      <td>1</td>\n",
       "      <td>0</td>\n",
       "      <td>1</td>\n",
       "      <td>0</td>\n",
       "    </tr>\n",
       "  </tbody>\n",
       "</table>\n",
       "</div>"
      ],
      "text/plain": [
       "   PassengerClass  Survived      Age  FarePrice  Title_Aristocracy  \\\n",
       "0               1         1  29.0000        211                  0   \n",
       "1               1         1   0.9167        151                  0   \n",
       "2               1         0   2.0000        151                  0   \n",
       "3               1         0  30.0000        151                  0   \n",
       "4               1         0  25.0000        151                  0   \n",
       "\n",
       "   Title_Master  Title_Military  Title_Miss  Title_Mr  Title_Mrs  \\\n",
       "0             0               0           1         0          0   \n",
       "1             1               0           0         0          0   \n",
       "2             0               0           1         0          0   \n",
       "3             0               0           0         1          0   \n",
       "4             0               0           0         0          1   \n",
       "\n",
       "   Title_Professional  Sex_female  Sex_male  \n",
       "0                   0           1         0  \n",
       "1                   0           0         1  \n",
       "2                   0           1         0  \n",
       "3                   0           0         1  \n",
       "4                   0           1         0  "
      ]
     },
     "execution_count": 2,
     "metadata": {},
     "output_type": "execute_result"
    }
   ],
   "source": [
    "titanic_df = pd.read_csv('titanic_features.csv')\n",
    "titanic_df.head(5)"
   ]
  },
  {
   "cell_type": "code",
   "execution_count": 3,
   "metadata": {},
   "outputs": [
    {
     "data": {
      "text/plain": [
       "(1309, 13)"
      ]
     },
     "execution_count": 3,
     "metadata": {},
     "output_type": "execute_result"
    }
   ],
   "source": [
    "titanic_df.shape"
   ]
  },
  {
   "cell_type": "code",
   "execution_count": 4,
   "metadata": {},
   "outputs": [],
   "source": [
    "target_df = titanic_df['Survived']\n",
    "features_df = titanic_df.drop(['Survived'],axis=1)"
   ]
  },
  {
   "cell_type": "code",
   "execution_count": 5,
   "metadata": {},
   "outputs": [
    {
     "name": "stdout",
     "output_type": "stream",
     "text": [
      "Logistic Regression: 0.78\n",
      "Random Forest: 0.78\n",
      "Decision Tree: 0.79\n",
      "Support Vector Machine: 0.64\n"
     ]
    }
   ],
   "source": [
    "# Create training and test sets\n",
    "X_train, X_test, y_train, y_test = train_test_split(features_df, target_df, test_size = 0.3, random_state=42)\n",
    "\n",
    "##############################################################################\n",
    "# Logistic Regression  \n",
    "lr = LogisticRegression(solver='lbfgs')\n",
    "lr.fit(X_train, y_train)\n",
    "y_pred = lr.predict(X_test)\n",
    "lr_accuracy = lr.score(X_test, y_test)\n",
    "\n",
    "##############################################################################\n",
    "# Create a random Forest Classifier instance\n",
    "rfc = RandomForestClassifier(n_estimators = 100)\n",
    "rfc.fit(X_train, y_train)\n",
    "y_pred = rfc.predict(X_test)\n",
    "rfc_accuracy = rfc.score(X_test, y_test) # = accuracy\n",
    "\n",
    "##############################################################################\n",
    "#Decision Tree\n",
    "dtree = DecisionTreeClassifier(max_depth=10)\n",
    "dtree.fit(X_train,  y_train)\n",
    "y_pred = dtree.predict(X_test)\n",
    "dtree_accuracy = dtree.score(X_test,  y_test) \n",
    "    \n",
    "#############################################################################    \n",
    "#Support Vector Machine\n",
    "suppvc = SVC(gamma = 0.001)\n",
    "suppvc.fit(X_train, y_train)\n",
    "y_pred = suppvc.predict(X_test)\n",
    "suppvc_accuracy = suppvc.score(X_test, y_test) \n",
    "\n",
    "print(\"Logistic Regression: \" + str(round(lr_accuracy, 2)))\n",
    "print(\"Random Forest: \" + str(round(rfc_accuracy,2)))\n",
    "print(\"Decision Tree: \" + str(round(dtree_accuracy,2)))\n",
    "print(\"Support Vector Machine: \" + str(round(suppvc_accuracy,2)))"
   ]
  },
  {
   "cell_type": "code",
   "execution_count": 6,
   "metadata": {},
   "outputs": [
    {
     "data": {
      "image/png": "[encoded data removed]",
      "text/plain": [
       "<Figure size 1080x360 with 1 Axes>"
      ]
     },
     "metadata": {
      "needs_background": "light"
     },
     "output_type": "display_data"
    }
   ],
   "source": [
    "features = features_df.columns.tolist()\n",
    "fi = rfc.feature_importances_\n",
    "sorted_features = {}\n",
    "for feature, imp in zip(features, fi):\n",
    "    sorted_features[feature] = round(imp,3)\n",
    "\n",
    "# sort the dictionnary by value\n",
    "sorted_features = OrderedDict(sorted(sorted_features.items(),reverse=True, key=lambda t: t[1]))\n",
    "dfvi = pd.DataFrame(list(sorted_features.items()), columns=['Features', 'Importance'])\n",
    "plt.figure(figsize=(15, 5))\n",
    "plt.title('Feature Importance - Random Forest')\n",
    "sns.barplot(x='Features', y='Importance', data=dfvi);\n",
    "plt.xticks(rotation=90) \n",
    "plt.show()"
   ]
  },
  {
   "cell_type": "code",
   "execution_count": 7,
   "metadata": {},
   "outputs": [
    {
     "data": {
      "image/png": "[encoded data removed]",
      "text/plain": [
       "<Figure size 1080x360 with 1 Axes>"
      ]
     },
     "metadata": {
      "needs_background": "light"
     },
     "output_type": "display_data"
    }
   ],
   "source": [
    "features = features_df.columns.tolist()\n",
    "fi = dtree.feature_importances_\n",
    "sorted_features = {}\n",
    "for feature, imp in zip(features, fi):\n",
    "    sorted_features[feature] = round(imp,3)\n",
    "\n",
    "# sort the dictionnary by value\n",
    "sorted_features = OrderedDict(sorted(sorted_features.items(),reverse=True, key=lambda t: t[1]))\n",
    "\n",
    "dfvi = pd.DataFrame(list(sorted_features.items()), columns=['Features', 'Importance'])\n",
    "plt.figure(figsize=(15, 5))\n",
    "plt.title('Feature Importance - Decison Tree')\n",
    "sns.barplot(x='Features', y='Importance', data=dfvi);\n",
    "plt.xticks(rotation=90) \n",
    "plt.show()"
   ]
  },
  {
   "cell_type": "code",
   "execution_count": null,
   "metadata": {},
   "outputs": [],
   "source": []
  }
 ],
 "metadata": {
  "kernelspec": {
   "display_name": "Python 3",
   "language": "python",
   "name": "python3"
  },
  "language_info": {
   "codemirror_mode": {
    "name": "ipython",
    "version": 3
   },
   "file_extension": ".py",
   "mimetype": "text/x-python",
   "name": "python",
   "nbconvert_exporter": "python",
   "pygments_lexer": "ipython3",
   "version": "3.6.5"
  }
 },
 "nbformat": 4,
 "nbformat_minor": 2
}
