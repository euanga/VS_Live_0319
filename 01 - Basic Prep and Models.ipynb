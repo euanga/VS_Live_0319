{
 "cells": [
  {
   "cell_type": "markdown",
   "metadata": {},
   "source": [
    "# Basic Prep and Models\n",
    "This notebook is designed to show the shortest path from opening a file to getting a model, it will serve as a baseline for the 02 Notebook that goes into advanced data prep but then uses the same modelling code to consume the data.\n",
    "\n",
    "The notebook was tested on Windows 10 with Python 3.7\n",
    "\n",
    "## Imports\n",
    "There are 3 classes of imports here all of these should be part of a standard Condas install of python."
   ]
  },
  {
   "cell_type": "code",
   "execution_count": 33,
   "metadata": {},
   "outputs": [],
   "source": [
    "import pandas as pd\n",
    "import warnings\n",
    "from collections import OrderedDict\n",
    "import numpy as np\n",
    "import pandas as pd\n",
    "\n",
    "# Visualisation\n",
    "import matplotlib.pyplot as plt\n",
    "import seaborn as sns\n",
    "\n",
    "#Sampling\n",
    "from sklearn.model_selection import train_test_split\n",
    "\n",
    "# Algorithms\n",
    "from sklearn.linear_model import LogisticRegression\n",
    "from sklearn.ensemble import RandomForestClassifier\n",
    "from sklearn.tree import DecisionTreeClassifier\n",
    "from sklearn.svm import SVC"
   ]
  },
  {
   "cell_type": "markdown",
   "metadata": {},
   "source": [
    "## Rectangulisation - Reading the file\n",
    "This can be a very iterative experience, it is usually helpful to have some form of raw file reader like Notepad++ available to help determine the properties of the file, that combined with hit and miss gets the right properties to provide a rectangle. We need a rectangle because thats what most of the data manipulation tools need.\n",
    "\n",
    "Verification of action is critical before moving on, in this case a simple head is what we are going to use.\n",
    "\n",
    "\"CSV is the worst form of transparent, tool agnostic file format, except for all the others\"\n",
    "- Jenny Bryan"
   ]
  },
  {
   "cell_type": "code",
   "execution_count": 34,
   "metadata": {},
   "outputs": [
    {
     "data": {
      "text/html": [
       "<div>\n",
       "<style scoped>\n",
       "    .dataframe tbody tr th:only-of-type {\n",
       "        vertical-align: middle;\n",
       "    }\n",
       "\n",
       "    .dataframe tbody tr th {\n",
       "        vertical-align: top;\n",
       "    }\n",
       "\n",
       "    .dataframe thead th {\n",
       "        text-align: right;\n",
       "    }\n",
       "</style>\n",
       "<table border=\"1\" class=\"dataframe\">\n",
       "  <thead>\n",
       "    <tr style=\"text-align: right;\">\n",
       "      <th></th>\n",
       "      <th>pclass</th>\n",
       "      <th>survived</th>\n",
       "      <th>name</th>\n",
       "      <th>sex</th>\n",
       "      <th>age</th>\n",
       "      <th>sibsp</th>\n",
       "      <th>parch</th>\n",
       "      <th>ticket</th>\n",
       "      <th>fare</th>\n",
       "      <th>cabin</th>\n",
       "      <th>embarked</th>\n",
       "      <th>boat</th>\n",
       "      <th>body</th>\n",
       "      <th>home.dest</th>\n",
       "    </tr>\n",
       "  </thead>\n",
       "  <tbody>\n",
       "    <tr>\n",
       "      <th>0</th>\n",
       "      <td>1.0</td>\n",
       "      <td>1.0</td>\n",
       "      <td>Allen, Miss. Elisabeth Walton</td>\n",
       "      <td>female</td>\n",
       "      <td>29.0000</td>\n",
       "      <td>0.0</td>\n",
       "      <td>0.0</td>\n",
       "      <td>24160</td>\n",
       "      <td>211.3375</td>\n",
       "      <td>B5</td>\n",
       "      <td>S</td>\n",
       "      <td>2</td>\n",
       "      <td>NaN</td>\n",
       "      <td>St Louis, MO</td>\n",
       "    </tr>\n",
       "    <tr>\n",
       "      <th>1</th>\n",
       "      <td>1.0</td>\n",
       "      <td>1.0</td>\n",
       "      <td>Allison, Master. Hudson Trevor</td>\n",
       "      <td>male</td>\n",
       "      <td>0.9167</td>\n",
       "      <td>1.0</td>\n",
       "      <td>2.0</td>\n",
       "      <td>113781</td>\n",
       "      <td>151.5500</td>\n",
       "      <td>C22 C26</td>\n",
       "      <td>S</td>\n",
       "      <td>11</td>\n",
       "      <td>NaN</td>\n",
       "      <td>Montreal, PQ / Chesterville, ON</td>\n",
       "    </tr>\n",
       "    <tr>\n",
       "      <th>2</th>\n",
       "      <td>1.0</td>\n",
       "      <td>0.0</td>\n",
       "      <td>Allison, Miss. Helen Loraine</td>\n",
       "      <td>female</td>\n",
       "      <td>2.0000</td>\n",
       "      <td>1.0</td>\n",
       "      <td>2.0</td>\n",
       "      <td>113781</td>\n",
       "      <td>151.5500</td>\n",
       "      <td>C22 C26</td>\n",
       "      <td>S</td>\n",
       "      <td>NaN</td>\n",
       "      <td>NaN</td>\n",
       "      <td>Montreal, PQ / Chesterville, ON</td>\n",
       "    </tr>\n",
       "    <tr>\n",
       "      <th>3</th>\n",
       "      <td>1.0</td>\n",
       "      <td>0.0</td>\n",
       "      <td>Allison, Mr. Hudson Joshua Creighton</td>\n",
       "      <td>male</td>\n",
       "      <td>30.0000</td>\n",
       "      <td>1.0</td>\n",
       "      <td>2.0</td>\n",
       "      <td>113781</td>\n",
       "      <td>151.5500</td>\n",
       "      <td>C22 C26</td>\n",
       "      <td>S</td>\n",
       "      <td>NaN</td>\n",
       "      <td>135.0</td>\n",
       "      <td>Montreal, PQ / Chesterville, ON</td>\n",
       "    </tr>\n",
       "    <tr>\n",
       "      <th>4</th>\n",
       "      <td>1.0</td>\n",
       "      <td>0.0</td>\n",
       "      <td>Allison, Mrs. Hudson J C (Bessie Waldo Daniels)</td>\n",
       "      <td>female</td>\n",
       "      <td>25.0000</td>\n",
       "      <td>1.0</td>\n",
       "      <td>2.0</td>\n",
       "      <td>113781</td>\n",
       "      <td>151.5500</td>\n",
       "      <td>C22 C26</td>\n",
       "      <td>S</td>\n",
       "      <td>NaN</td>\n",
       "      <td>NaN</td>\n",
       "      <td>Montreal, PQ / Chesterville, ON</td>\n",
       "    </tr>\n",
       "  </tbody>\n",
       "</table>\n",
       "</div>"
      ],
      "text/plain": [
       "   pclass  survived                                             name     sex  \\\n",
       "0     1.0       1.0                    Allen, Miss. Elisabeth Walton  female   \n",
       "1     1.0       1.0                   Allison, Master. Hudson Trevor    male   \n",
       "2     1.0       0.0                     Allison, Miss. Helen Loraine  female   \n",
       "3     1.0       0.0             Allison, Mr. Hudson Joshua Creighton    male   \n",
       "4     1.0       0.0  Allison, Mrs. Hudson J C (Bessie Waldo Daniels)  female   \n",
       "\n",
       "       age  sibsp  parch  ticket      fare    cabin embarked boat   body  \\\n",
       "0  29.0000    0.0    0.0   24160  211.3375       B5        S    2    NaN   \n",
       "1   0.9167    1.0    2.0  113781  151.5500  C22 C26        S   11    NaN   \n",
       "2   2.0000    1.0    2.0  113781  151.5500  C22 C26        S  NaN    NaN   \n",
       "3  30.0000    1.0    2.0  113781  151.5500  C22 C26        S  NaN  135.0   \n",
       "4  25.0000    1.0    2.0  113781  151.5500  C22 C26        S  NaN    NaN   \n",
       "\n",
       "                         home.dest  \n",
       "0                     St Louis, MO  \n",
       "1  Montreal, PQ / Chesterville, ON  \n",
       "2  Montreal, PQ / Chesterville, ON  \n",
       "3  Montreal, PQ / Chesterville, ON  \n",
       "4  Montreal, PQ / Chesterville, ON  "
      ]
     },
     "execution_count": 34,
     "metadata": {},
     "output_type": "execute_result"
    }
   ],
   "source": [
    "titanic_df = pd.read_csv('Titanic_Basic_Delim_Fixed.csv', delimiter = \"|\")\n",
    "titanic_df.head(5)"
   ]
  },
  {
   "cell_type": "markdown",
   "metadata": {},
   "source": [
    "## Develop understanding of the data\n",
    "In this case a simple shape helps us understand the row and col counts so we know the params of what we have to do with the data."
   ]
  },
  {
   "cell_type": "code",
   "execution_count": 35,
   "metadata": {},
   "outputs": [
    {
     "data": {
      "text/plain": [
       "(1310, 14)"
      ]
     },
     "execution_count": 35,
     "metadata": {},
     "output_type": "execute_result"
    }
   ],
   "source": [
    "titanic_df.shape"
   ]
  },
  {
   "cell_type": "markdown",
   "metadata": {},
   "source": [
    "## Drop bad rows and columns\n",
    "As this is a simple example our data prep is just going to consist of getting rid of bad data rather than trying to fix it, having explored this data set many times we know where the problems lie."
   ]
  },
  {
   "cell_type": "code",
   "execution_count": 36,
   "metadata": {},
   "outputs": [],
   "source": [
    "titanic_df2 = titanic_df.drop(['boat', 'home.dest', 'body','ticket', 'embarked', 'sex', 'name', 'cabin'],axis=1)\n",
    "titanic_df2 = titanic_df2.dropna()\n",
    "titanic_df2.head(5)"
   ]
  },
  {
   "cell_type": "markdown",
   "metadata": {},
   "source": [
    "## Start Modelling\n",
    "We know our goal, predict survival set up 2 dataframes one with only the target feature and the other all the columns that are left minus the target feature."
   ]
  },
  {
   "cell_type": "code",
   "execution_count": 37,
   "metadata": {},
   "outputs": [],
   "source": [
    "target_df = titanic_df2['survived']\n",
    "features_df = titanic_df2.drop(['survived'],axis=1)"
   ]
  },
  {
   "cell_type": "markdown",
   "metadata": {},
   "source": [
    "Split the data into a test and train set and then run each of the algorithms in turn to build a model"
   ]
  },
  {
   "cell_type": "code",
   "execution_count": 38,
   "metadata": {},
   "outputs": [
    {
     "name": "stdout",
     "output_type": "stream",
     "text": [
      "Logistic Regression: 0.65\n",
      "Random Forest: 0.63\n",
      "Decision Tree: 0.56\n",
      "Support Vector Machine: 0.66\n"
     ]
    }
   ],
   "source": [
    "# Create training and test sets\n",
    "X_train, X_test, y_train, y_test = train_test_split(features_df, target_df, test_size = 0.3, random_state=42)\n",
    "\n",
    "##############################################################################\n",
    "# Logistic Regression  \n",
    "lr = LogisticRegression(solver='lbfgs')\n",
    "lr.fit(X_train, y_train)\n",
    "y_pred = lr.predict(X_test)\n",
    "lr_accuracy = lr.score(X_test, y_test)\n",
    "\n",
    "##############################################################################\n",
    "# Create a random Forest Classifier instance\n",
    "rfc = RandomForestClassifier(n_estimators = 100)\n",
    "rfc.fit(X_train, y_train)\n",
    "y_pred = rfc.predict(X_test)\n",
    "rfc_accuracy = rfc.score(X_test, y_test) # = accuracy\n",
    "\n",
    "##############################################################################\n",
    "#Decision Tree\n",
    "dtree = DecisionTreeClassifier(max_depth=10)\n",
    "dtree.fit(X_train,  y_train)\n",
    "y_pred = dtree.predict(X_test)\n",
    "dtree_accuracy = dtree.score(X_test,  y_test) \n",
    "    \n",
    "#############################################################################    \n",
    "#Support Vector Machine\n",
    "suppvc = SVC(gamma = 0.001)\n",
    "suppvc.fit(X_train, y_train)\n",
    "y_pred = suppvc.predict(X_test)\n",
    "suppvc_accuracy = suppvc.score(X_test, y_test) \n",
    "\n"
   ]
  },
  {
   "cell_type": "code",
   "execution_count": null,
   "metadata": {},
   "outputs": [],
   "source": [
    "print(\"Logistic Regression: \" + str(round(lr_accuracy, 2)))\n",
    "print(\"Random Forest: \" + str(round(rfc_accuracy,2)))\n",
    "print(\"Decision Tree: \" + str(round(dtree_accuracy,2)))\n",
    "print(\"Support Vector Machine: \" + str(round(suppvc_accuracy,2)))"
   ]
  },
  {
   "cell_type": "markdown",
   "metadata": {},
   "source": [
    "### Feature Importance\n",
    "As part of validating the data prep we need to look at the output of the model, in this case which features are important to some of the models and which to others. This is an iterative process, after reviewing these results we might go back and make changes to the data, we might provide different data sets for different algorithms.\n",
    "\n",
    "In this case there may be a problem with multicolinearity between 2 of the features, this could cause problems for regression driven models and it may be the right thing to drop one of these. In addition the integer ranges in some of the columns use different scales (age vs fare) this can cause problems for Support Vector Machines and would potentially need some scaling work done."
   ]
  },
  {
   "cell_type": "code",
   "execution_count": 39,
   "metadata": {},
   "outputs": [
    {
     "data": {
      "image/png": "[encoded data removed]",
      "text/plain": [
       "<Figure size 1080x360 with 1 Axes>"
      ]
     },
     "metadata": {
      "needs_background": "light"
     },
     "output_type": "display_data"
    }
   ],
   "source": [
    "features = features_df.columns.tolist()\n",
    "fi = rfc.feature_importances_\n",
    "sorted_features = {}\n",
    "for feature, imp in zip(features, fi):\n",
    "    sorted_features[feature] = round(imp,3)\n",
    "\n",
    "# sort the dictionnary by value\n",
    "sorted_features = OrderedDict(sorted(sorted_features.items(),reverse=True, key=lambda t: t[1]))\n",
    "dfvi = pd.DataFrame(list(sorted_features.items()), columns=['Features', 'Importance'])\n",
    "plt.figure(figsize=(15, 5))\n",
    "plt.title('Feature Importance - Random Forest')\n",
    "sns.barplot(x='Features', y='Importance', data=dfvi);\n",
    "plt.xticks(rotation=90) \n",
    "plt.show()"
   ]
  },
  {
   "cell_type": "code",
   "execution_count": 40,
   "metadata": {},
   "outputs": [
    {
     "data": {
      "image/png": "[encoded data removed]",
      "text/plain": [
       "<Figure size 1080x360 with 1 Axes>"
      ]
     },
     "metadata": {
      "needs_background": "light"
     },
     "output_type": "display_data"
    }
   ],
   "source": [
    "features = features_df.columns.tolist()\n",
    "fi = dtree.feature_importances_\n",
    "sorted_features = {}\n",
    "for feature, imp in zip(features, fi):\n",
    "    sorted_features[feature] = round(imp,3)\n",
    "\n",
    "# sort the dictionnary by value\n",
    "sorted_features = OrderedDict(sorted(sorted_features.items(),reverse=True, key=lambda t: t[1]))\n",
    "\n",
    "dfvi = pd.DataFrame(list(sorted_features.items()), columns=['Features', 'Importance'])\n",
    "plt.figure(figsize=(15, 5))\n",
    "plt.title('Feature Importance - Decison Tree')\n",
    "sns.barplot(x='Features', y='Importance', data=dfvi);\n",
    "plt.xticks(rotation=90) \n",
    "plt.show()"
   ]
  },
  {
   "cell_type": "code",
   "execution_count": null,
   "metadata": {},
   "outputs": [],
   "source": []
  }
 ],
 "metadata": {
  "kernelspec": {
   "display_name": "Python 3",
   "language": "python",
   "name": "python3"
  },
  "language_info": {
   "codemirror_mode": {
    "name": "ipython",
    "version": 3
   },
   "file_extension": ".py",
   "mimetype": "text/x-python",
   "name": "python",
   "nbconvert_exporter": "python",
   "pygments_lexer": "ipython3",
   "version": "3.6.5"
  }
 },
 "nbformat": 4,
 "nbformat_minor": 2
}
